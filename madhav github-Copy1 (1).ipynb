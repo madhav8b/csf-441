{
 "cells": [
  {
   "cell_type": "code",
   "execution_count": 10,
   "id": "8ca127ff",
   "metadata": {},
   "outputs": [],
   "source": [
    "import pandas as pd\n",
    "import numpy as np \n",
    "import matplotlib.pyplot as plt\n"
   ]
  },
  {
   "cell_type": "code",
   "execution_count": 3,
   "id": "ecebee66",
   "metadata": {},
   "outputs": [
    {
     "data": {
      "text/plain": [
       "[(4, 23),\n",
       " (5, 27),\n",
       " (10, 22),\n",
       " (4, 30),\n",
       " (10, 21),\n",
       " (8, 23),\n",
       " (3, 27),\n",
       " (2, 29),\n",
       " (7, 30),\n",
       " (3, 25)]"
      ]
     },
     "execution_count": 3,
     "metadata": {},
     "output_type": "execute_result"
    }
   ],
   "source": [
    "x= [4,5,10,4,10,8,3,2,7,3]\n",
    "y=[23,27,22,30,21,23,27,29,30,25]\n",
    "data=list(zip(x,y))\n",
    "data"
   ]
  },
  {
   "cell_type": "code",
   "execution_count": 20,
   "id": "5bbb5500",
   "metadata": {},
   "outputs": [
    {
     "data": {
      "image/png": "[encoded data removed]",
      "text/plain": [
       "<Figure size 640x480 with 1 Axes>"
      ]
     },
     "metadata": {},
     "output_type": "display_data"
    }
   ],
   "source": [
    "from sklearn.cluster import KMeans\n",
    "model=KMeans(n_clusters=9)\n",
    "model.fit(data)\n",
    "plt.scatter(x,y,c=model.labels_)\n",
    "plt.show()"
   ]
  },
  {
   "cell_type": "code",
   "execution_count": 24,
   "id": "d4ab542b",
   "metadata": {},
   "outputs": [],
   "source": [
    "\n",
    "df=pd.read_csv(\"E:/titanic.csv\")"
   ]
  },
  {
   "cell_type": "code",
   "execution_count": 32,
   "id": "362a014a",
   "metadata": {},
   "outputs": [],
   "source": [
    "df=df.dropna()"
   ]
  },
  {
   "cell_type": "code",
   "execution_count": 33,
   "id": "0a122cdb",
   "metadata": {},
   "outputs": [
    {
     "data": {
      "text/plain": [
       "KMeans(n_clusters=2)"
      ]
     },
     "execution_count": 33,
     "metadata": {},
     "output_type": "execute_result"
    }
   ],
   "source": [
    "x=df['Age']\n",
    "y=df['Fare']\n",
    "data=list(zip(x.values,y.values))\n",
    "data\n",
    "from sklearn.cluster import KMeans\n",
    "model=KMeans (n_clusters=2)\n",
    "model.fit(data)"
   ]
  },
  {
   "cell_type": "code",
   "execution_count": null,
   "id": "b8f6fe82",
   "metadata": {},
   "outputs": [],
   "source": []
  },
  {
   "cell_type": "code",
   "execution_count": 34,
   "id": "d1296d0a",
   "metadata": {},
   "outputs": [
    {
     "data": {
      "text/plain": [
       "[(38.0, 71.2833),\n",
       " (35.0, 53.1),\n",
       " (54.0, 51.8625),\n",
       " (4.0, 16.7),\n",
       " (58.0, 26.55),\n",
       " (34.0, 13.0),\n",
       " (28.0, 35.5),\n",
       " (19.0, 263.0),\n",
       " (49.0, 76.7292),\n",
       " (65.0, 61.9792),\n",
       " (45.0, 83.475),\n",
       " (29.0, 10.5),\n",
       " (25.0, 7.65),\n",
       " (23.0, 263.0),\n",
       " (46.0, 61.175),\n",
       " (71.0, 34.6542),\n",
       " (23.0, 63.3583),\n",
       " (21.0, 77.2875),\n",
       " (47.0, 52.0),\n",
       " (24.0, 247.5208),\n",
       " (32.5, 13.0),\n",
       " (54.0, 77.2875),\n",
       " (19.0, 26.2833),\n",
       " (37.0, 53.1),\n",
       " (24.0, 79.2),\n",
       " (36.5, 26.0),\n",
       " (22.0, 66.6),\n",
       " (61.0, 33.5),\n",
       " (56.0, 30.6958),\n",
       " (50.0, 28.7125),\n",
       " (1.0, 39.0),\n",
       " (3.0, 26.0),\n",
       " (44.0, 27.7208),\n",
       " (58.0, 146.5208),\n",
       " (2.0, 10.4625),\n",
       " (40.0, 31.0),\n",
       " (31.0, 113.275),\n",
       " (32.0, 76.2917),\n",
       " (38.0, 90.0),\n",
       " (35.0, 83.475),\n",
       " (44.0, 90.0),\n",
       " (37.0, 52.5542),\n",
       " (29.0, 10.4625),\n",
       " (62.0, 26.55),\n",
       " (30.0, 86.5),\n",
       " (52.0, 79.65),\n",
       " (40.0, 0.0),\n",
       " (58.0, 153.4625),\n",
       " (35.0, 135.6333),\n",
       " (37.0, 29.7),\n",
       " (63.0, 77.9583),\n",
       " (19.0, 91.0792),\n",
       " (36.0, 12.875),\n",
       " (2.0, 151.55),\n",
       " (50.0, 247.5208),\n",
       " (0.92, 151.55),\n",
       " (17.0, 108.9),\n",
       " (30.0, 56.9292),\n",
       " (24.0, 83.1583),\n",
       " (18.0, 262.375),\n",
       " (31.0, 164.8667),\n",
       " (40.0, 134.5),\n",
       " (36.0, 135.6333),\n",
       " (36.0, 13.0),\n",
       " (16.0, 57.9792),\n",
       " (45.5, 28.5),\n",
       " (38.0, 153.4625),\n",
       " (29.0, 66.6),\n",
       " (41.0, 134.5),\n",
       " (45.0, 35.5),\n",
       " (2.0, 26.0),\n",
       " (24.0, 263.0),\n",
       " (24.0, 13.0),\n",
       " (22.0, 55.0),\n",
       " (60.0, 75.25),\n",
       " (24.0, 69.3),\n",
       " (25.0, 55.4417),\n",
       " (27.0, 211.5),\n",
       " (36.0, 120.0),\n",
       " (23.0, 113.275),\n",
       " (24.0, 16.7),\n",
       " (33.0, 90.0),\n",
       " (32.0, 8.05),\n",
       " (28.0, 26.55),\n",
       " (50.0, 55.9),\n",
       " (14.0, 120.0),\n",
       " (64.0, 263.0),\n",
       " (4.0, 81.8583),\n",
       " (52.0, 30.5),\n",
       " (30.0, 27.75),\n",
       " (49.0, 89.1042),\n",
       " (65.0, 26.55),\n",
       " (48.0, 26.55),\n",
       " (47.0, 38.5),\n",
       " (23.0, 13.7917),\n",
       " (25.0, 91.0792),\n",
       " (35.0, 90.0),\n",
       " (58.0, 29.7),\n",
       " (55.0, 30.5),\n",
       " (54.0, 78.2667),\n",
       " (25.0, 151.55),\n",
       " (16.0, 86.5),\n",
       " (18.0, 108.9),\n",
       " (36.0, 26.2875),\n",
       " (47.0, 34.0208),\n",
       " (34.0, 10.5),\n",
       " (30.0, 93.5),\n",
       " (44.0, 57.9792),\n",
       " (45.0, 26.55),\n",
       " (22.0, 49.5),\n",
       " (36.0, 71.0),\n",
       " (50.0, 106.425),\n",
       " (17.0, 110.8833),\n",
       " (48.0, 39.6),\n",
       " (39.0, 79.65),\n",
       " (53.0, 51.4792),\n",
       " (36.0, 26.3875),\n",
       " (39.0, 55.9),\n",
       " (39.0, 110.8833),\n",
       " (36.0, 40.125),\n",
       " (18.0, 79.65),\n",
       " (60.0, 79.2),\n",
       " (52.0, 78.2667),\n",
       " (49.0, 56.9292),\n",
       " (40.0, 153.4625),\n",
       " (4.0, 39.0),\n",
       " (42.0, 52.5542),\n",
       " (61.0, 32.3208),\n",
       " (21.0, 77.9583),\n",
       " (80.0, 30.0),\n",
       " (32.0, 30.5),\n",
       " (24.0, 69.3),\n",
       " (48.0, 76.7292),\n",
       " (56.0, 35.5),\n",
       " (58.0, 113.275),\n",
       " (47.0, 25.5875),\n",
       " (31.0, 52.0),\n",
       " (36.0, 512.3292),\n",
       " (27.0, 76.7292),\n",
       " (15.0, 211.3375),\n",
       " (31.0, 57.0),\n",
       " (49.0, 110.8833),\n",
       " (42.0, 7.65),\n",
       " (18.0, 227.525),\n",
       " (35.0, 26.2875),\n",
       " (42.0, 26.2875),\n",
       " (24.0, 49.5042),\n",
       " (48.0, 52.0),\n",
       " (19.0, 7.65),\n",
       " (38.0, 227.525),\n",
       " (27.0, 10.5),\n",
       " (27.0, 53.1),\n",
       " (29.0, 211.3375),\n",
       " (35.0, 512.3292),\n",
       " (36.0, 78.85),\n",
       " (21.0, 262.375),\n",
       " (70.0, 71.0),\n",
       " (19.0, 53.1),\n",
       " (6.0, 12.475),\n",
       " (33.0, 86.5),\n",
       " (36.0, 120.0),\n",
       " (51.0, 77.9583),\n",
       " (57.0, 10.5),\n",
       " (43.0, 211.3375),\n",
       " (17.0, 57.0),\n",
       " (29.0, 30.0),\n",
       " (46.0, 79.2),\n",
       " (49.0, 25.9292),\n",
       " (11.0, 120.0),\n",
       " (39.0, 0.0),\n",
       " (33.0, 53.1),\n",
       " (52.0, 93.5),\n",
       " (27.0, 12.475),\n",
       " (39.0, 83.1583),\n",
       " (16.0, 39.4),\n",
       " (51.0, 26.55),\n",
       " (48.0, 25.9292),\n",
       " (31.0, 50.4958),\n",
       " (47.0, 52.5542),\n",
       " (33.0, 5.0),\n",
       " (56.0, 83.1583),\n",
       " (19.0, 30.0),\n",
       " (26.0, 30.0)]"
      ]
     },
     "execution_count": 34,
     "metadata": {},
     "output_type": "execute_result"
    }
   ],
   "source": [
    "data\n"
   ]
  },
  {
   "cell_type": "code",
   "execution_count": null,
   "id": "07c1dcdf",
   "metadata": {},
   "outputs": [],
   "source": []
  }
 ],
 "metadata": {
  "kernelspec": {
   "display_name": "Python 3 (ipykernel)",
   "language": "python",
   "name": "python3"
  },
  "language_info": {
   "codemirror_mode": {
    "name": "ipython",
    "version": 3
   },
   "file_extension": ".py",
   "mimetype": "text/x-python",
   "name": "python",
   "nbconvert_exporter": "python",
   "pygments_lexer": "ipython3",
   "version": "3.9.13"
  }
 },
 "nbformat": 4,
 "nbformat_minor": 5
}
